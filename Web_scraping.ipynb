{
 "cells": [
  {
   "cell_type": "code",
   "execution_count": 49,
   "id": "348ca183",
   "metadata": {},
   "outputs": [],
   "source": [
    "# Trello link: https://trello.com/invite/b/Vx28Ejqa/7abca6cfe1c7af1f982515cf140b1e08/case-study-gnod"
   ]
  },
  {
   "cell_type": "code",
   "execution_count": 4,
   "id": "ea692e75",
   "metadata": {},
   "outputs": [],
   "source": [
    "from bs4 import BeautifulSoup\n",
    "import requests\n",
    "import pandas as pd"
   ]
  },
  {
   "cell_type": "code",
   "execution_count": 51,
   "id": "1069059b",
   "metadata": {},
   "outputs": [],
   "source": [
    "url = \"https://www.top-charts.com/songs/all-genres/mexico/total\""
   ]
  },
  {
   "cell_type": "code",
   "execution_count": 52,
   "id": "8b2d5a53",
   "metadata": {},
   "outputs": [
    {
     "data": {
      "text/plain": [
       "200"
      ]
     },
     "execution_count": 52,
     "metadata": {},
     "output_type": "execute_result"
    }
   ],
   "source": [
    "response = requests.get(url)\n",
    "response.status_code # 200 status code means OK!\n",
    "# other answers mean there are other weird things happening with this page"
   ]
  },
  {
   "cell_type": "code",
   "execution_count": 53,
   "id": "fdd14bd0",
   "metadata": {},
   "outputs": [],
   "source": [
    "soup = BeautifulSoup(response.content, \"html.parser\")"
   ]
  },
  {
   "cell_type": "code",
   "execution_count": 177,
   "id": "5cb512cb",
   "metadata": {},
   "outputs": [],
   "source": [
    "# print(soup.prettify())"
   ]
  },
  {
   "cell_type": "code",
   "execution_count": 176,
   "id": "1ba13225",
   "metadata": {},
   "outputs": [],
   "source": [
    "# retrieve/extract the desired info (here, you'll paste the \"Selector\" you copied before to get the element that belongs to the top movie)\n",
    "\n",
    "# soup.select('body > div.container.p-0.m-0.mt-n4.mx-sm-auto.mx-xl-auto.px-xl-0.container-max-width > div')\n",
    "\n",
    "#body > div.container.p-0.m-0.mt-n4.mx-sm-auto.mx-xl-auto.px-xl-0.container-max-width > div"
   ]
  },
  {
   "cell_type": "code",
   "execution_count": 56,
   "id": "2310a5e9",
   "metadata": {},
   "outputs": [
    {
     "data": {
      "text/plain": [
       "[<div class=\"col-10 d-flex align-items-center pl-0\"><div class=\"col-1 align-middle text-center info-detail-artist-numbers numbers-min-width max-width-fit p-0 ml-lg-2\"><span>1</span></div><div class=\"col-3 marg-alb-card mr-sm-1 img-size pl-0 pr-1 px-lg-2\" onclick=\"playSelectedSong(0)\"><div class=\"container-img-text\"><img alt=\"Botella Tras Botella artwork\" class=\"image-on-bar\" data-src=\"https://is5-ssl.mzstatic.com/image/thumb/Music3/v4/53/c3/a8/53c3a8a6-9549-150e-267c-62fefe3c6e3d/859713691117_cover.tif/60x60bb.jpeg\" src=\"https://cdn.top-charts.com/static/images/loading.gif\"/><img alt=\"play\" class=\"centered song-card-play-button\" id=\"1-img\" src=\"https://cdn.top-charts.com/static/images/BT_Play.png\"/></div></div><div class=\"col-8\"><div class=\"row song-text\" id=\"title\" style=\"\"><div class=\"col-12 p-0\"><span class=\"song-text\" itemprop=\"track\" itemscope=\"\" itemtype=\"http://schema.org/MusicRecording\"><a href=\"/s/botella-tras-botella-conjunto-azabache\" itemprop=\"url\"><div class=\"text-truncate\" itemprop=\"name\">Botella Tras Botella</div></a></span></div></div><div class=\"row artist-text text-color-sing\" id=\"Artist\"><div class=\"col-12 p-0 text-truncate d-block\"><a href=\"/artist-detail/conjunto-azabache\" itemprop=\"url\"><span itemprop=\"name\">Conjunto Azabache</span></a></div></div></div></div>]"
      ]
     },
     "execution_count": 56,
     "metadata": {},
     "output_type": "execute_result"
    }
   ],
   "source": [
    "soup.select('#s1 > div.col-10.d-flex.align-items-center.pl-0')"
   ]
  },
  {
   "cell_type": "code",
   "execution_count": 175,
   "id": "6c230bf8",
   "metadata": {
    "scrolled": true
   },
   "outputs": [],
   "source": [
    "# songs\n",
    "# soup.select('#title > div > span > a > div')"
   ]
  },
  {
   "cell_type": "code",
   "execution_count": 58,
   "id": "f1d26d41",
   "metadata": {},
   "outputs": [
    {
     "data": {
      "text/plain": [
       "[<div class=\"col-10 d-flex align-items-center pl-0\"><div class=\"col-1 align-middle text-center info-detail-artist-numbers numbers-min-width max-width-fit p-0 ml-lg-2\"><span>1</span></div><div class=\"col-3 marg-alb-card mr-sm-1 img-size pl-0 pr-1 px-lg-2\" onclick=\"playSelectedSong(0)\"><div class=\"container-img-text\"><img alt=\"Botella Tras Botella artwork\" class=\"image-on-bar\" data-src=\"https://is5-ssl.mzstatic.com/image/thumb/Music3/v4/53/c3/a8/53c3a8a6-9549-150e-267c-62fefe3c6e3d/859713691117_cover.tif/60x60bb.jpeg\" src=\"https://cdn.top-charts.com/static/images/loading.gif\"/><img alt=\"play\" class=\"centered song-card-play-button\" id=\"1-img\" src=\"https://cdn.top-charts.com/static/images/BT_Play.png\"/></div></div><div class=\"col-8\"><div class=\"row song-text\" id=\"title\" style=\"\"><div class=\"col-12 p-0\"><span class=\"song-text\" itemprop=\"track\" itemscope=\"\" itemtype=\"http://schema.org/MusicRecording\"><a href=\"/s/botella-tras-botella-conjunto-azabache\" itemprop=\"url\"><div class=\"text-truncate\" itemprop=\"name\">Botella Tras Botella</div></a></span></div></div><div class=\"row artist-text text-color-sing\" id=\"Artist\"><div class=\"col-12 p-0 text-truncate d-block\"><a href=\"/artist-detail/conjunto-azabache\" itemprop=\"url\"><span itemprop=\"name\">Conjunto Azabache</span></a></div></div></div></div>]"
      ]
     },
     "execution_count": 58,
     "metadata": {},
     "output_type": "execute_result"
    }
   ],
   "source": [
    "soup.select('#s1 > div.col-10.d-flex.align-items-center.pl-0')"
   ]
  },
  {
   "cell_type": "code",
   "execution_count": 59,
   "id": "7c483051",
   "metadata": {
    "scrolled": true
   },
   "outputs": [
    {
     "data": {
      "text/plain": [
       "[<div class=\"col-8\"><div class=\"row song-text\" id=\"title\" style=\"\"><div class=\"col-12 p-0\"><span class=\"song-text\" itemprop=\"track\" itemscope=\"\" itemtype=\"http://schema.org/MusicRecording\"><a href=\"/s/botella-tras-botella-conjunto-azabache\" itemprop=\"url\"><div class=\"text-truncate\" itemprop=\"name\">Botella Tras Botella</div></a></span></div></div><div class=\"row artist-text text-color-sing\" id=\"Artist\"><div class=\"col-12 p-0 text-truncate d-block\"><a href=\"/artist-detail/conjunto-azabache\" itemprop=\"url\"><span itemprop=\"name\">Conjunto Azabache</span></a></div></div></div>]"
      ]
     },
     "execution_count": 59,
     "metadata": {},
     "output_type": "execute_result"
    }
   ],
   "source": [
    "soup.select('#s1 > div.col-10.d-flex.align-items-center.pl-0 > div.col-8')"
   ]
  },
  {
   "cell_type": "code",
   "execution_count": 79,
   "id": "b0b26d3f",
   "metadata": {},
   "outputs": [],
   "source": [
    "# artists\n",
    "soup.select('#Artist > div > a > span')"
   ]
  },
  {
   "cell_type": "code",
   "execution_count": 61,
   "id": "eb933c9a",
   "metadata": {},
   "outputs": [],
   "source": [
    "songs = []\n",
    "artists = []\n",
    "\n",
    "song = []\n",
    "artist = []\n",
    "position = []\n",
    "\n",
    "artists = soup.select('#Artist > div > a > span')\n",
    "songs = soup.select('#title > div > span > a > div')\n",
    "range_100 = 100\n",
    "\n",
    "# iterate through the result set and retrive all the data\n",
    "for i in range(range_100):\n",
    "    song.append(songs[i].get_text())\n",
    "    artist.append(artists[i].get_text())\n",
    "    position.append(i+1)"
   ]
  },
  {
   "cell_type": "code",
   "execution_count": 65,
   "id": "bf5b5a20",
   "metadata": {},
   "outputs": [],
   "source": [
    "# checking lists\n",
    "\n",
    "song\n",
    "artist\n",
    "position"
   ]
  },
  {
   "cell_type": "code",
   "execution_count": 63,
   "id": "40d474f0",
   "metadata": {},
   "outputs": [],
   "source": [
    "# concat lists into DF\n",
    "chart_mx = pd.DataFrame({\"position\":position, \"artist\":artist, \"song\":song})"
   ]
  },
  {
   "cell_type": "code",
   "execution_count": 101,
   "id": "37ba3797",
   "metadata": {},
   "outputs": [
    {
     "data": {
      "text/html": [
       "<div>\n",
       "<style scoped>\n",
       "    .dataframe tbody tr th:only-of-type {\n",
       "        vertical-align: middle;\n",
       "    }\n",
       "\n",
       "    .dataframe tbody tr th {\n",
       "        vertical-align: top;\n",
       "    }\n",
       "\n",
       "    .dataframe thead th {\n",
       "        text-align: right;\n",
       "    }\n",
       "</style>\n",
       "<table border=\"1\" class=\"dataframe\">\n",
       "  <thead>\n",
       "    <tr style=\"text-align: right;\">\n",
       "      <th></th>\n",
       "      <th>position</th>\n",
       "      <th>artist</th>\n",
       "      <th>song</th>\n",
       "    </tr>\n",
       "  </thead>\n",
       "  <tbody>\n",
       "    <tr>\n",
       "      <th>0</th>\n",
       "      <td>1</td>\n",
       "      <td>Conjunto Azabache</td>\n",
       "      <td>Botella Tras Botella</td>\n",
       "    </tr>\n",
       "    <tr>\n",
       "      <th>1</th>\n",
       "      <td>2</td>\n",
       "      <td>Flow La Movie,</td>\n",
       "      <td>AM</td>\n",
       "    </tr>\n",
       "    <tr>\n",
       "      <th>2</th>\n",
       "      <td>3</td>\n",
       "      <td>Nio García</td>\n",
       "      <td>Fiel</td>\n",
       "    </tr>\n",
       "    <tr>\n",
       "      <th>3</th>\n",
       "      <td>4</td>\n",
       "      <td>Jhay Cortez,</td>\n",
       "      <td>Pareja Del Año</td>\n",
       "    </tr>\n",
       "    <tr>\n",
       "      <th>4</th>\n",
       "      <td>5</td>\n",
       "      <td>Los Legendarios,</td>\n",
       "      <td>Phoenix</td>\n",
       "    </tr>\n",
       "    <tr>\n",
       "      <th>5</th>\n",
       "      <td>6</td>\n",
       "      <td>Wisin</td>\n",
       "      <td>Botella Tras Botella</td>\n",
       "    </tr>\n",
       "    <tr>\n",
       "      <th>6</th>\n",
       "      <td>7</td>\n",
       "      <td>Myke Towers,</td>\n",
       "      <td>EL MAKINON</td>\n",
       "    </tr>\n",
       "    <tr>\n",
       "      <th>7</th>\n",
       "      <td>8</td>\n",
       "      <td>Sebastián Yatra</td>\n",
       "      <td>Bandido</td>\n",
       "    </tr>\n",
       "    <tr>\n",
       "      <th>8</th>\n",
       "      <td>9</td>\n",
       "      <td>Sounds of Red Bull</td>\n",
       "      <td>Dakiti</td>\n",
       "    </tr>\n",
       "    <tr>\n",
       "      <th>9</th>\n",
       "      <td>10</td>\n",
       "      <td>Gera MX,</td>\n",
       "      <td>BICHOTA</td>\n",
       "    </tr>\n",
       "    <tr>\n",
       "      <th>10</th>\n",
       "      <td>11</td>\n",
       "      <td>Christian Nodal</td>\n",
       "      <td>telepatía</td>\n",
       "    </tr>\n",
       "    <tr>\n",
       "      <th>11</th>\n",
       "      <td>12</td>\n",
       "      <td>KAROL G</td>\n",
       "      <td>LA NOCHE DE ANOCHE</td>\n",
       "    </tr>\n",
       "    <tr>\n",
       "      <th>12</th>\n",
       "      <td>13</td>\n",
       "      <td>Myke Towers,</td>\n",
       "      <td>911</td>\n",
       "    </tr>\n",
       "    <tr>\n",
       "      <th>13</th>\n",
       "      <td>14</td>\n",
       "      <td>Juhn</td>\n",
       "      <td>El Tóxico</td>\n",
       "    </tr>\n",
       "    <tr>\n",
       "      <th>14</th>\n",
       "      <td>15</td>\n",
       "      <td>Jhay Cortez,</td>\n",
       "      <td>Dime Cómo Quieres</td>\n",
       "    </tr>\n",
       "  </tbody>\n",
       "</table>\n",
       "</div>"
      ],
      "text/plain": [
       "    position              artist                  song\n",
       "0          1   Conjunto Azabache  Botella Tras Botella\n",
       "1          2     Flow La Movie,                     AM\n",
       "2          3          Nio García                  Fiel\n",
       "3          4       Jhay Cortez,         Pareja Del Año\n",
       "4          5   Los Legendarios,                Phoenix\n",
       "5          6               Wisin  Botella Tras Botella\n",
       "6          7       Myke Towers,             EL MAKINON\n",
       "7          8     Sebastián Yatra               Bandido\n",
       "8          9  Sounds of Red Bull                Dakiti\n",
       "9         10           Gera MX,                BICHOTA\n",
       "10        11     Christian Nodal             telepatía\n",
       "11        12             KAROL G    LA NOCHE DE ANOCHE\n",
       "12        13       Myke Towers,                    911\n",
       "13        14                Juhn             El Tóxico\n",
       "14        15       Jhay Cortez,      Dime Cómo Quieres"
      ]
     },
     "execution_count": 101,
     "metadata": {},
     "output_type": "execute_result"
    }
   ],
   "source": [
    "# Final visual\n",
    "chart_mx.head(15)"
   ]
  },
  {
   "cell_type": "code",
   "execution_count": 119,
   "id": "e614c738",
   "metadata": {},
   "outputs": [],
   "source": [
    "# takes input by user and searches on DF and if exists it recommends a random song and if its not there say it´s not there\n",
    "# use string finder method"
   ]
  },
  {
   "cell_type": "code",
   "execution_count": 172,
   "id": "09090522",
   "metadata": {},
   "outputs": [
    {
     "name": "stdout",
     "output_type": "stream",
     "text": [
      "am\n",
      "Based on  your song, you should listen to: \n",
      " 60    Intro (G’nius Black Radio)\n",
      "Name: song, dtype: object\n"
     ]
    }
   ],
   "source": [
    "finder = input()\n",
    "random = chart_mx['song'].sample()\n",
    "yes = []\n",
    "\n",
    "for i in chart_mx['song'].values:\n",
    "    if i.lower() == finder.lower():\n",
    "        yes = True\n",
    "        break\n",
    "\n",
    "if yes:\n",
    "    print('Based on  your song, you should listen to: \\n', random)\n",
    "else:\n",
    "    print('I can´t find your song, but check out: ', random)"
   ]
  },
  {
   "cell_type": "code",
   "execution_count": null,
   "id": "2e53dc40",
   "metadata": {},
   "outputs": [],
   "source": []
  },
  {
   "cell_type": "code",
   "execution_count": null,
   "id": "609163ef",
   "metadata": {},
   "outputs": [],
   "source": []
  }
 ],
 "metadata": {
  "kernelspec": {
   "display_name": "Python 3 (ipykernel)",
   "language": "python",
   "name": "python3"
  },
  "language_info": {
   "codemirror_mode": {
    "name": "ipython",
    "version": 3
   },
   "file_extension": ".py",
   "mimetype": "text/x-python",
   "name": "python",
   "nbconvert_exporter": "python",
   "pygments_lexer": "ipython3",
   "version": "3.9.12"
  }
 },
 "nbformat": 4,
 "nbformat_minor": 5
}
