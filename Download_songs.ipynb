{
 "cells": [
  {
   "cell_type": "markdown",
   "id": "60dc0386",
   "metadata": {},
   "source": [
    "# Case Study: The site for recommendations - \"Gnod\"\n",
    "Scenario\n",
    "You have been hired as a Data Analyst for \"Gnod\".\n",
    "\n",
    "\"Gnod\" is a site that provides recommendations for music, art, literature and products based on collaborative filtering algorithms. Their flagship product is the music recommender, which you can try at www.gnoosic.com. The site asks users to input 3 bands they like, and computes similarity scores with the rest of the users. Then, they recommend to the user bands that users with similar tastes have picked.\n",
    "\n",
    "\"Gnod\" is a small company, and its only revenue stream so far are adds in the site. In the future, they would like to explore partnership options with music apps (such as Deezer, Soundcloud or even Apple Music and Spotify). However, for that to be possible, they need to expand and improve their recommendations.\n",
    "\n",
    "That's precisely where you come. They have hired you as a Data Analyst, and they expect you to bring a mix of technical expertise and business mindset to the table.\n",
    "\n",
    "Jane, CTO of Gnod, has sent you an email assigning you with your first task.\n",
    "\n",
    "Task(s)\n",
    "This is an e-mail Jane - CTO of Gnod - sent over your inbox in the first weeks working there.\n",
    "\n",
    "Dear xxxxxxxx, We are thrilled to welcome you as a Data Analyst for Gnoosic!\n",
    "\n",
    "As you know, we are trying to come up with ways to enhance our music recommendations. One of the new features we'd like to research is to recommend songs (not only bands). We're also aware of the limitations of our collaborative filtering algorithms, and would like to give users two new possibilities when searching for recommendations:\n",
    "\n",
    "Songs that are actually similar to the ones they picked from an acoustic point of view.\n",
    "Songs that are popular around the world right now, independently from their tastes.\n",
    "Coming up with the perfect song recommender will take us months - no need to stress out too much. In this first week, we want you to explore new data sources for songs. The Internet is full of information and our first step is to acquire it do an initial exploration. Feel free to use APIs or directly scrape the web to collect as much information as possible from popular songs. Eventually, we'll need to collect data from millions of songs, but we can start with a few hundreds or thousands from each source and see if the collected features are useful.\n",
    "\n",
    "Once the data is collected, we want you to create clusters of songs that are similar to each other. The idea is that if a user inputs a song from one group, we'll prioritize giving them recommendations of songs from that same group.\n",
    "\n",
    "On Friday, you will present your work to me and Marek, the CEO and founder. Full disclosure: I need you to be very convincing about this whole song-recommender, as this has been my personal push and the main reason we hired you for!\n",
    "\n",
    "Be open minded about this process: we are agile, and that means that we define our products and features on-the-go, while exploring the tools and the data that's available to us. We'd love you to provide your own vision of the product and the next steps to be taken.\n",
    "\n",
    "Lots of luck and strength for this first week with us!\n",
    "\n",
    "-Jane"
   ]
  },
  {
   "cell_type": "code",
   "execution_count": null,
   "id": "8d793742",
   "metadata": {},
   "outputs": [],
   "source": [
    "# Trello link: https://trello.com/invite/b/Vx28Ejqa/7abca6cfe1c7af1f982515cf140b1e08/case-study-gnod\n",
    "# First document can be found under: Web_scraping.ipynb"
   ]
  },
  {
   "cell_type": "code",
   "execution_count": 1,
   "id": "0f87ae76",
   "metadata": {},
   "outputs": [],
   "source": [
    "from bs4 import BeautifulSoup\n",
    "import requests\n",
    "import time\n",
    "import csv\n",
    "import re\n",
    "import pandas as pd\n",
    "import numpy as np\n",
    "from itertools import repeat\n",
    "from random import randint\n",
    "from time import sleep\n",
    "\n",
    "import spotipy\n",
    "from spotipy.oauth2 import SpotifyClientCredentials\n",
    "\n",
    "from sklearn import cluster, datasets\n",
    "from sklearn.preprocessing import StandardScaler\n",
    "from matplotlib.lines import Line2D\n",
    "import matplotlib.pyplot as plt\n",
    "from sklearn.cluster import KMeans\n",
    "from sklearn.metrics import silhouette_score"
   ]
  },
  {
   "cell_type": "code",
   "execution_count": null,
   "id": "414fe80a",
   "metadata": {},
   "outputs": [],
   "source": [
    "# I put different url´s in a txt document to get the information in 1 take.\n",
    "url_songs = open(\"url_songs.txt\",\"r\")\n",
    "urls = url_songs.read()\n",
    "urlsongs = urls.split('\\n')\n",
    "urlsongs"
   ]
  },
  {
   "cell_type": "code",
   "execution_count": null,
   "id": "feae17d7",
   "metadata": {},
   "outputs": [],
   "source": [
    "# This is to check the response of the page before doing the DF\n",
    "length = 0\n",
    "lists = []\n",
    "for x in urlsongs:\n",
    "    response = requests.get(x)\n",
    "    length += 1\n",
    "    print(x, response.status_code)\n",
    "print(length)\n",
    "# append new list to an empty list"
   ]
  },
  {
   "cell_type": "code",
   "execution_count": null,
   "id": "e43f29cf",
   "metadata": {},
   "outputs": [],
   "source": [
    "# this was the first steps into building the full loop\n",
    "# for x in lists:\n",
    "#     response = requests.get(x)\n",
    "#     soup = BeautifulSoup(response.content, \"html.parser\")\n",
    "#     print(soup)\n",
    "\n",
    "\n",
    "# # iterate through the result set and retrive all the data\n",
    "# for each_song in range(range_100):\n",
    "#     song.append(songs[each_song].get_text())\n",
    "#     artist.append(artists[each_song].get_text())\n",
    "#     position.append(each_song+1)\n",
    "# chart_mx = pd.DataFrame({\"position\":position, \"artist\":artist, \"song\":song})"
   ]
  },
  {
   "cell_type": "code",
   "execution_count": null,
   "id": "5b33b4ae",
   "metadata": {},
   "outputs": [],
   "source": [
    "length = 0\n",
    "songs = []\n",
    "artists = []\n",
    "\n",
    "song = []\n",
    "artist = []\n",
    "position = []\n",
    "\n",
    "for x in urlsongs:\n",
    "    response = requests.get(x)\n",
    "    soup = BeautifulSoup(response.content, \"html.parser\")\n",
    "    artists = soup.select('#Artist > div > a > span')\n",
    "    songs = soup.select('#title > div > span > a > div')\n",
    "    range_100 = 100\n",
    "    for each_song in range(range_100):\n",
    "        song.append(songs[each_song].get_text())\n",
    "        artist.append(artists[each_song].get_text())\n",
    "        position.append(each_song+1)\n",
    "       #sleep(randint(1,3000)/1000)     - not necesary for now\n",
    "    length += 1\n",
    "chart_mx = pd.DataFrame({\"position\":position, \"artist\":artist, \"song\":song})"
   ]
  },
  {
   "cell_type": "code",
   "execution_count": null,
   "id": "872dc13b",
   "metadata": {},
   "outputs": [],
   "source": [
    "chart_mx.head()"
   ]
  },
  {
   "cell_type": "code",
   "execution_count": null,
   "id": "6631ebb1",
   "metadata": {},
   "outputs": [],
   "source": [
    "# come back to build a function for this\n",
    "finder = input()\n",
    "random_r = chart_mx['song'].sample()\n",
    "yes = []\n",
    "\n",
    "for i in chart_mx['song'][0:99].values:\n",
    "    random1 = chart_mx['song'][0:99].sample()\n",
    "    if i.lower() == finder.lower():\n",
    "        yes = True\n",
    "        print('Based on  your song, you should listen to: \\n', random1)\n",
    "        break\n",
    "for i in chart_mx['song'][100:199].values:\n",
    "    random2 = chart_mx['song'][100:199].sample()\n",
    "    if i.lower() == finder.lower():\n",
    "        yes = True\n",
    "        print('Based on  your song, you should listen to: \\n', random2)\n",
    "        break\n",
    "for i in chart_mx['song'][200:299].values:\n",
    "    random3 = chart_mx['song'][200:299].sample()\n",
    "    if i.lower() == finder.lower():\n",
    "        yes = True\n",
    "        print('Based on  your song, you should listen to: \\n', random3)\n",
    "        break\n",
    "        \n",
    "if yes:\n",
    "    None\n",
    "else:\n",
    "    print('I can´t find your song, but check out: ', random_r)"
   ]
  },
  {
   "cell_type": "markdown",
   "id": "e6809356",
   "metadata": {},
   "source": [
    "## Lab | API wrappers - Create your collection of songs & audio features\n",
    "Instructions\n",
    "To move forward with the project, you need to create a collection of songs with their audio features - as large as possible!\n",
    "\n",
    "These are the songs that we will cluster. And, later, when the user inputs a song, we will find the cluster to which the song belongs and recommend a song from the same cluster. The more songs you have, the more accurate and diverse recommendations you'll be able to give. Although... you might want to make sure the collected songs are \"curated\" in a certain way. Try to find playlists of songs that are diverse, but also that meet certain standards.\n",
    "\n",
    "The process of sending hundreds or thousands of requests can take some time - it's normal if you have to wait a few minutes (or, if you're ambitious, even hours) to get all the data you need.\n",
    "\n",
    "An idea for collecting as many songs as possible is to start with all the songs of a big, diverse playlist and then go to every artist present in the playlist and grab every song of every album of that artist. The amount of songs you'll be collecting per playlist will grow exponentially!"
   ]
  },
  {
   "cell_type": "code",
   "execution_count": 2,
   "id": "175c01aa",
   "metadata": {},
   "outputs": [],
   "source": [
    "# import my Spotipy account data\n",
    "secrets_file = open(r\"C:\\Users\\mfduh\\OneDrive\\Documents\\Deutschland\\Arbeiten\\Data Analyst\\Jupyter excercises\\Week 6 - 10.10.2022\\6.5 API wrappers, Spotipy\\secrets.txt\",\"r\")"
   ]
  },
  {
   "cell_type": "code",
   "execution_count": 3,
   "id": "874ff941",
   "metadata": {},
   "outputs": [],
   "source": [
    "# Save my id and secret\n",
    "string = secrets_file.read()\n",
    "string.split('\\n')\n",
    "secrets_dict={}\n",
    "for line in string.split('\\n'):\n",
    "    if len(line) > 0:\n",
    "        secrets_dict[line.split(':')[0]]=line.split(': ')[1]"
   ]
  },
  {
   "cell_type": "code",
   "execution_count": 4,
   "id": "2a795fc4",
   "metadata": {},
   "outputs": [],
   "source": [
    "#Initialize SpotiPy with user credentials\n",
    "sp = spotipy.Spotify(auth_manager=SpotifyClientCredentials(client_id=secrets_dict['cid'],\n",
    "                                                           client_secret=secrets_dict['csecret']))"
   ]
  },
  {
   "cell_type": "code",
   "execution_count": 5,
   "id": "59002068",
   "metadata": {},
   "outputs": [],
   "source": [
    "# function to get the playlis\n",
    "def get_playlist_tracks(playlist_id):\n",
    "    results = sp.user_playlist_tracks(\"spotify\",playlist_id)\n",
    "    tracks = results['items']\n",
    "    while results['next']!=None:\n",
    "        results = sp.next(results)\n",
    "        tracks = tracks + results['items']\n",
    "        sleep(randint(1,3000)/1000)\n",
    "    return tracks"
   ]
  },
  {
   "cell_type": "code",
   "execution_count": 6,
   "id": "d7051a98",
   "metadata": {},
   "outputs": [
    {
     "data": {
      "text/plain": [
       "138"
      ]
     },
     "execution_count": 6,
     "metadata": {},
     "output_type": "execute_result"
    }
   ],
   "source": [
    "all_tracks = get_playlist_tracks('37i9dQZF1DX5Vy6DFOcx00')\n",
    "len(all_tracks)"
   ]
  },
  {
   "cell_type": "code",
   "execution_count": 29,
   "id": "5a63efeb",
   "metadata": {},
   "outputs": [
    {
     "data": {
      "text/plain": [
       "'Just Can’t Get Enough'"
      ]
     },
     "execution_count": 29,
     "metadata": {},
     "output_type": "execute_result"
    }
   ],
   "source": [
    "all_tracks\n",
    "all_tracks[0]\n",
    "all_tracks[1].keys()\n",
    "all_tracks[1]['track']\n",
    "all_tracks[137]['track']['name']\n",
    "all_tracks[137]['track']['artists']\n",
    "all_tracks[0]['track']['artists'][0]['name']\n",
    "all_tracks[1]['track']['uri']\n",
    "all_tracks[1]['track']['uri'].split(':')\n",
    "sp.audio_features(all_tracks[0][\"track\"][\"uri\"])\n",
    "all_tracks[137]['track']['name']"
   ]
  },
  {
   "cell_type": "code",
   "execution_count": 30,
   "id": "2c98df70",
   "metadata": {},
   "outputs": [],
   "source": [
    "artists = []\n",
    "\n",
    "for a in range(len(all_tracks)):\n",
    "    insert = all_tracks[a]['track']['artists'][0]['name']\n",
    "    artists.append(insert)"
   ]
  },
  {
   "cell_type": "code",
   "execution_count": 31,
   "id": "5a8f69b2",
   "metadata": {},
   "outputs": [],
   "source": [
    "uri = []\n",
    "\n",
    "for a in range(len(all_tracks)):\n",
    "    adding = all_tracks[a]['track']['uri']\n",
    "    uri.append(adding)"
   ]
  },
  {
   "cell_type": "code",
   "execution_count": 32,
   "id": "79e00ec6",
   "metadata": {},
   "outputs": [],
   "source": [
    "track = []\n",
    "\n",
    "for a in range(len(all_tracks)):\n",
    "    adding = all_tracks[a]['track']['name']\n",
    "    track.append(adding)"
   ]
  },
  {
   "cell_type": "code",
   "execution_count": null,
   "id": "575ef4a3",
   "metadata": {},
   "outputs": [],
   "source": [
    "# for i in range(len(uri)):\n",
    "#     squish_uri = sp.audio_features(uri[i])"
   ]
  },
  {
   "cell_type": "code",
   "execution_count": 33,
   "id": "74b4c1f8",
   "metadata": {},
   "outputs": [],
   "source": [
    "def features(tracks):\n",
    "    song_features = {}    \n",
    "    for i in range(len(all_tracks)):\n",
    "        song_features[tracks[i]['track']['id']] = sp.audio_features(tracks[i][\"track\"][\"uri\"])\n",
    "    return song_features"
   ]
  },
  {
   "cell_type": "code",
   "execution_count": 34,
   "id": "354aa780",
   "metadata": {},
   "outputs": [],
   "source": [
    "all_uri = features(all_tracks)"
   ]
  },
  {
   "cell_type": "code",
   "execution_count": 35,
   "id": "2c85814e",
   "metadata": {},
   "outputs": [],
   "source": [
    "dict(all_uri)\n",
    "uri_df = pd.DataFrame(dict(all_uri)).transpose()\n",
    "uri_df.rename(columns = {0:'audio_features'}, inplace = True)\n",
    "uri_df = uri_df.reset_index(drop=True)"
   ]
  },
  {
   "cell_type": "code",
   "execution_count": 36,
   "id": "214a06fc",
   "metadata": {},
   "outputs": [],
   "source": [
    "def flatten_dict(data, col_list):\n",
    "    for column in col_list:\n",
    "        flattened = pd.DataFrame(dict(data[column])).transpose()\n",
    "        columns = [str(col) for col in flattened.columns]\n",
    "        flattened.columns = [column + '_' + colname for colname in columns]\n",
    "        data = pd.concat([data, flattened], axis=1)\n",
    "        data = data.drop(column, axis=1)\n",
    "    return data"
   ]
  },
  {
   "cell_type": "code",
   "execution_count": 37,
   "id": "f673bdd7",
   "metadata": {},
   "outputs": [],
   "source": [
    "uri_df_final = flatten_dict(uri_df, ['audio_features'])"
   ]
  },
  {
   "cell_type": "code",
   "execution_count": 38,
   "id": "d3debf15",
   "metadata": {},
   "outputs": [],
   "source": [
    "# drop unnecesary columns\n",
    "uri_df_final = uri_df_final.drop(['audio_features_type', 'audio_features_id', 'audio_features_uri', 'audio_features_track_href', 'audio_features_analysis_url'], axis=1)\n",
    "df_concat = pd.DataFrame({'artist':artists, 'track':track})"
   ]
  },
  {
   "cell_type": "code",
   "execution_count": 39,
   "id": "adc73afb",
   "metadata": {},
   "outputs": [],
   "source": [
    "# reset indexes\n",
    "uri_df_final.reset_index(drop=True, inplace=True)\n",
    "df_concat.reset_index(drop=True, inplace=True)"
   ]
  },
  {
   "cell_type": "code",
   "execution_count": 40,
   "id": "f032f2c7",
   "metadata": {},
   "outputs": [],
   "source": [
    "final_songs = pd.concat([df_concat, uri_df_final], axis=1)"
   ]
  },
  {
   "cell_type": "code",
   "execution_count": 43,
   "id": "980f2c62",
   "metadata": {},
   "outputs": [
    {
     "data": {
      "text/html": [
       "<div>\n",
       "<style scoped>\n",
       "    .dataframe tbody tr th:only-of-type {\n",
       "        vertical-align: middle;\n",
       "    }\n",
       "\n",
       "    .dataframe tbody tr th {\n",
       "        vertical-align: top;\n",
       "    }\n",
       "\n",
       "    .dataframe thead th {\n",
       "        text-align: right;\n",
       "    }\n",
       "</style>\n",
       "<table border=\"1\" class=\"dataframe\">\n",
       "  <thead>\n",
       "    <tr style=\"text-align: right;\">\n",
       "      <th></th>\n",
       "      <th>artist</th>\n",
       "      <th>track</th>\n",
       "      <th>audio_features_danceability</th>\n",
       "      <th>audio_features_energy</th>\n",
       "      <th>audio_features_key</th>\n",
       "      <th>audio_features_loudness</th>\n",
       "      <th>audio_features_mode</th>\n",
       "      <th>audio_features_speechiness</th>\n",
       "      <th>audio_features_acousticness</th>\n",
       "      <th>audio_features_instrumentalness</th>\n",
       "      <th>audio_features_liveness</th>\n",
       "      <th>audio_features_valence</th>\n",
       "      <th>audio_features_tempo</th>\n",
       "      <th>audio_features_duration_ms</th>\n",
       "      <th>audio_features_time_signature</th>\n",
       "    </tr>\n",
       "  </thead>\n",
       "  <tbody>\n",
       "    <tr>\n",
       "      <th>0</th>\n",
       "      <td>Oliver Tree</td>\n",
       "      <td>Miss You</td>\n",
       "      <td>0.587</td>\n",
       "      <td>0.742</td>\n",
       "      <td>6</td>\n",
       "      <td>-6.64</td>\n",
       "      <td>0</td>\n",
       "      <td>0.0529</td>\n",
       "      <td>0.0128</td>\n",
       "      <td>0.00107</td>\n",
       "      <td>0.146</td>\n",
       "      <td>0.199</td>\n",
       "      <td>145.007</td>\n",
       "      <td>206000</td>\n",
       "      <td>4</td>\n",
       "    </tr>\n",
       "    <tr>\n",
       "      <th>1</th>\n",
       "      <td>Chris Brown</td>\n",
       "      <td>Under The Influence</td>\n",
       "      <td>0.733</td>\n",
       "      <td>0.69</td>\n",
       "      <td>9</td>\n",
       "      <td>-5.529</td>\n",
       "      <td>0</td>\n",
       "      <td>0.0427</td>\n",
       "      <td>0.0635</td>\n",
       "      <td>0.000001</td>\n",
       "      <td>0.105</td>\n",
       "      <td>0.31</td>\n",
       "      <td>116.992</td>\n",
       "      <td>184613</td>\n",
       "      <td>4</td>\n",
       "    </tr>\n",
       "    <tr>\n",
       "      <th>2</th>\n",
       "      <td>The Neighbourhood</td>\n",
       "      <td>Sweater Weather</td>\n",
       "      <td>0.612</td>\n",
       "      <td>0.807</td>\n",
       "      <td>10</td>\n",
       "      <td>-2.81</td>\n",
       "      <td>1</td>\n",
       "      <td>0.0336</td>\n",
       "      <td>0.0495</td>\n",
       "      <td>0.0177</td>\n",
       "      <td>0.101</td>\n",
       "      <td>0.398</td>\n",
       "      <td>124.053</td>\n",
       "      <td>240400</td>\n",
       "      <td>4</td>\n",
       "    </tr>\n",
       "    <tr>\n",
       "      <th>3</th>\n",
       "      <td>Lil Yachty</td>\n",
       "      <td>Poland</td>\n",
       "      <td>0.695</td>\n",
       "      <td>0.555</td>\n",
       "      <td>5</td>\n",
       "      <td>-8.5</td>\n",
       "      <td>0</td>\n",
       "      <td>0.0509</td>\n",
       "      <td>0.141</td>\n",
       "      <td>0.826</td>\n",
       "      <td>0.11</td>\n",
       "      <td>0.26</td>\n",
       "      <td>150.024</td>\n",
       "      <td>83200</td>\n",
       "      <td>4</td>\n",
       "    </tr>\n",
       "    <tr>\n",
       "      <th>4</th>\n",
       "      <td>Sam Smith</td>\n",
       "      <td>Unholy (feat. Kim Petras)</td>\n",
       "      <td>0.714</td>\n",
       "      <td>0.472</td>\n",
       "      <td>2</td>\n",
       "      <td>-7.375</td>\n",
       "      <td>1</td>\n",
       "      <td>0.0864</td>\n",
       "      <td>0.013</td>\n",
       "      <td>0.000005</td>\n",
       "      <td>0.266</td>\n",
       "      <td>0.238</td>\n",
       "      <td>131.121</td>\n",
       "      <td>156943</td>\n",
       "      <td>4</td>\n",
       "    </tr>\n",
       "  </tbody>\n",
       "</table>\n",
       "</div>"
      ],
      "text/plain": [
       "              artist                      track audio_features_danceability  \\\n",
       "0        Oliver Tree                   Miss You                       0.587   \n",
       "1        Chris Brown        Under The Influence                       0.733   \n",
       "2  The Neighbourhood            Sweater Weather                       0.612   \n",
       "3         Lil Yachty                     Poland                       0.695   \n",
       "4          Sam Smith  Unholy (feat. Kim Petras)                       0.714   \n",
       "\n",
       "  audio_features_energy audio_features_key audio_features_loudness  \\\n",
       "0                 0.742                  6                   -6.64   \n",
       "1                  0.69                  9                  -5.529   \n",
       "2                 0.807                 10                   -2.81   \n",
       "3                 0.555                  5                    -8.5   \n",
       "4                 0.472                  2                  -7.375   \n",
       "\n",
       "  audio_features_mode audio_features_speechiness audio_features_acousticness  \\\n",
       "0                   0                     0.0529                      0.0128   \n",
       "1                   0                     0.0427                      0.0635   \n",
       "2                   1                     0.0336                      0.0495   \n",
       "3                   0                     0.0509                       0.141   \n",
       "4                   1                     0.0864                       0.013   \n",
       "\n",
       "  audio_features_instrumentalness audio_features_liveness  \\\n",
       "0                         0.00107                   0.146   \n",
       "1                        0.000001                   0.105   \n",
       "2                          0.0177                   0.101   \n",
       "3                           0.826                    0.11   \n",
       "4                        0.000005                   0.266   \n",
       "\n",
       "  audio_features_valence audio_features_tempo audio_features_duration_ms  \\\n",
       "0                  0.199              145.007                     206000   \n",
       "1                   0.31              116.992                     184613   \n",
       "2                  0.398              124.053                     240400   \n",
       "3                   0.26              150.024                      83200   \n",
       "4                  0.238              131.121                     156943   \n",
       "\n",
       "  audio_features_time_signature  \n",
       "0                             4  \n",
       "1                             4  \n",
       "2                             4  \n",
       "3                             4  \n",
       "4                             4  "
      ]
     },
     "execution_count": 43,
     "metadata": {},
     "output_type": "execute_result"
    }
   ],
   "source": [
    "final_songs.head()"
   ]
  },
  {
   "cell_type": "code",
   "execution_count": null,
   "id": "f4af8075",
   "metadata": {},
   "outputs": [],
   "source": [
    "# final_songs.isna().sum()"
   ]
  },
  {
   "cell_type": "code",
   "execution_count": 44,
   "id": "8d24b7e5",
   "metadata": {},
   "outputs": [],
   "source": [
    "final_songs.to_csv('first_final_songs.csv', index=False)"
   ]
  },
  {
   "cell_type": "code",
   "execution_count": null,
   "id": "965de9b1",
   "metadata": {},
   "outputs": [],
   "source": [
    "# simple way of importing, but above function already did it for me.\n",
    "# playlist1 = sp.user_playlist_tracks(\"spotify\", \"37i9dQZF1DX5Vy6DFOcx00\")\n",
    "# playlist1 = get_playlist_tracks(\"37i9dQZF1DX5Vy6DFOcx00\")\n",
    "# playlist1.keys() \n",
    "# playlist1[\"items\"][0].keys()\n",
    "# len(playlist1[\"items\"])"
   ]
  },
  {
   "cell_type": "code",
   "execution_count": null,
   "id": "b5e28844",
   "metadata": {},
   "outputs": [],
   "source": [
    "# helpful functions used in class \n",
    "\n",
    "# def flatten(input_list):\n",
    "#     return [item for sublist in input_list for item in sublist]\n",
    "\n",
    "# def get_name_artists_from_track(track):\n",
    "#     return [(track[\"name\"],artist[\"name\"]) for artist in track[\"artists\"]]\n",
    "\n",
    "# def get_name_artist_from_playlist_item(playlist_item):\n",
    "#     return get_name_artists_from_track(playlist_item['track'])\n",
    "\n",
    "# def get_name_artists_from_playlist(input_playlist):\n",
    "#     return list(map(get_name_artist_from_playlist_item,input_playlist[\"items\"]))\n",
    "\n",
    "# def get_name_artists_from_playlist(input_playlist):\n",
    "#     return flatten(list(map(get_name_artist_from_playlist_item,input_playlist[\"items\"])))"
   ]
  },
  {
   "cell_type": "markdown",
   "id": "ed7b748f",
   "metadata": {},
   "source": [
    "## Lab | Unsupervised learning intro\n",
    "Instructions\n",
    "It's the moment to perform clustering on the songs you collected. Remember that the ultimate goal of this little project is to improve the recommendations of artists. Clustering the songs will allow the recommendation system to limit the scope of the recommendations to only songs that belong to the same cluster - songs with similar audio features.\n",
    "\n",
    "The experiments you did with the Spotify API and the Billboard web scraping will allow you to create a pipeline such that when the user enters a song, you:\n",
    "\n",
    "Check whether or not the song is in the Billboard Hot 200.\n",
    "Collect the audio features from the Spotify API.\n",
    "After that, you want to send the Spotify audio features of the submitted song to the clustering model, which should return a cluster number.\n",
    "\n",
    "We want to have as many songs as possible to create the clustering model, so we will add the songs you collected to a bigger dataset available on Kaggle containing 160 thousand songs."
   ]
  },
  {
   "cell_type": "code",
   "execution_count": null,
   "id": "da652234",
   "metadata": {},
   "outputs": [],
   "source": [
    "# I´m doing it with a list I found: https://www.kaggle.com/datasets/tomigelo/spotify-audio-features?resource=download\n"
   ]
  },
  {
   "cell_type": "code",
   "execution_count": 45,
   "id": "db349477",
   "metadata": {},
   "outputs": [],
   "source": [
    "songs_k1 = pd.read_csv('SpotifyAudioFeaturesApril2019.csv')"
   ]
  },
  {
   "cell_type": "code",
   "execution_count": 46,
   "id": "fe50bb3e",
   "metadata": {},
   "outputs": [],
   "source": [
    "songs_k2 = pd.read_csv('SpotifyAudioFeaturesApril2019.csv')"
   ]
  },
  {
   "cell_type": "code",
   "execution_count": 47,
   "id": "6ca46449",
   "metadata": {},
   "outputs": [],
   "source": [
    "songs_k = pd.concat([songs_k1,songs_k2], axis=0)"
   ]
  },
  {
   "cell_type": "code",
   "execution_count": 49,
   "id": "3699efb6",
   "metadata": {},
   "outputs": [],
   "source": [
    "songs_k = songs_k.drop(['track_id'],axis=1)"
   ]
  },
  {
   "cell_type": "code",
   "execution_count": 51,
   "id": "085bf7b1",
   "metadata": {},
   "outputs": [
    {
     "data": {
      "text/html": [
       "<div>\n",
       "<style scoped>\n",
       "    .dataframe tbody tr th:only-of-type {\n",
       "        vertical-align: middle;\n",
       "    }\n",
       "\n",
       "    .dataframe tbody tr th {\n",
       "        vertical-align: top;\n",
       "    }\n",
       "\n",
       "    .dataframe thead th {\n",
       "        text-align: right;\n",
       "    }\n",
       "</style>\n",
       "<table border=\"1\" class=\"dataframe\">\n",
       "  <thead>\n",
       "    <tr style=\"text-align: right;\">\n",
       "      <th></th>\n",
       "      <th>artist_name</th>\n",
       "      <th>track_name</th>\n",
       "      <th>acousticness</th>\n",
       "      <th>danceability</th>\n",
       "      <th>duration_ms</th>\n",
       "      <th>energy</th>\n",
       "      <th>instrumentalness</th>\n",
       "      <th>key</th>\n",
       "      <th>liveness</th>\n",
       "      <th>loudness</th>\n",
       "      <th>mode</th>\n",
       "      <th>speechiness</th>\n",
       "      <th>tempo</th>\n",
       "      <th>time_signature</th>\n",
       "      <th>valence</th>\n",
       "      <th>popularity</th>\n",
       "    </tr>\n",
       "  </thead>\n",
       "  <tbody>\n",
       "    <tr>\n",
       "      <th>0</th>\n",
       "      <td>YG</td>\n",
       "      <td>Big Bank feat. 2 Chainz, Big Sean, Nicki Minaj</td>\n",
       "      <td>0.005820</td>\n",
       "      <td>0.743</td>\n",
       "      <td>238373</td>\n",
       "      <td>0.339</td>\n",
       "      <td>0.000</td>\n",
       "      <td>1</td>\n",
       "      <td>0.0812</td>\n",
       "      <td>-7.678</td>\n",
       "      <td>1</td>\n",
       "      <td>0.4090</td>\n",
       "      <td>203.927</td>\n",
       "      <td>4</td>\n",
       "      <td>0.118</td>\n",
       "      <td>15</td>\n",
       "    </tr>\n",
       "    <tr>\n",
       "      <th>1</th>\n",
       "      <td>YG</td>\n",
       "      <td>BAND DRUM (feat. A$AP Rocky)</td>\n",
       "      <td>0.024400</td>\n",
       "      <td>0.846</td>\n",
       "      <td>214800</td>\n",
       "      <td>0.557</td>\n",
       "      <td>0.000</td>\n",
       "      <td>8</td>\n",
       "      <td>0.2860</td>\n",
       "      <td>-7.259</td>\n",
       "      <td>1</td>\n",
       "      <td>0.4570</td>\n",
       "      <td>159.009</td>\n",
       "      <td>4</td>\n",
       "      <td>0.371</td>\n",
       "      <td>0</td>\n",
       "    </tr>\n",
       "    <tr>\n",
       "      <th>2</th>\n",
       "      <td>R3HAB</td>\n",
       "      <td>Radio Silence</td>\n",
       "      <td>0.025000</td>\n",
       "      <td>0.603</td>\n",
       "      <td>138913</td>\n",
       "      <td>0.723</td>\n",
       "      <td>0.000</td>\n",
       "      <td>9</td>\n",
       "      <td>0.0824</td>\n",
       "      <td>-5.890</td>\n",
       "      <td>0</td>\n",
       "      <td>0.0454</td>\n",
       "      <td>114.966</td>\n",
       "      <td>4</td>\n",
       "      <td>0.382</td>\n",
       "      <td>56</td>\n",
       "    </tr>\n",
       "    <tr>\n",
       "      <th>3</th>\n",
       "      <td>Chris Cooq</td>\n",
       "      <td>Lactose</td>\n",
       "      <td>0.029400</td>\n",
       "      <td>0.800</td>\n",
       "      <td>125381</td>\n",
       "      <td>0.579</td>\n",
       "      <td>0.912</td>\n",
       "      <td>5</td>\n",
       "      <td>0.0994</td>\n",
       "      <td>-12.118</td>\n",
       "      <td>0</td>\n",
       "      <td>0.0701</td>\n",
       "      <td>123.003</td>\n",
       "      <td>4</td>\n",
       "      <td>0.641</td>\n",
       "      <td>0</td>\n",
       "    </tr>\n",
       "    <tr>\n",
       "      <th>4</th>\n",
       "      <td>Chris Cooq</td>\n",
       "      <td>Same - Original mix</td>\n",
       "      <td>0.000035</td>\n",
       "      <td>0.783</td>\n",
       "      <td>124016</td>\n",
       "      <td>0.792</td>\n",
       "      <td>0.878</td>\n",
       "      <td>7</td>\n",
       "      <td>0.0332</td>\n",
       "      <td>-10.277</td>\n",
       "      <td>1</td>\n",
       "      <td>0.0661</td>\n",
       "      <td>120.047</td>\n",
       "      <td>4</td>\n",
       "      <td>0.928</td>\n",
       "      <td>0</td>\n",
       "    </tr>\n",
       "  </tbody>\n",
       "</table>\n",
       "</div>"
      ],
      "text/plain": [
       "  artist_name                                      track_name  acousticness  \\\n",
       "0          YG  Big Bank feat. 2 Chainz, Big Sean, Nicki Minaj      0.005820   \n",
       "1          YG                    BAND DRUM (feat. A$AP Rocky)      0.024400   \n",
       "2       R3HAB                                   Radio Silence      0.025000   \n",
       "3  Chris Cooq                                         Lactose      0.029400   \n",
       "4  Chris Cooq                             Same - Original mix      0.000035   \n",
       "\n",
       "   danceability  duration_ms  energy  instrumentalness  key  liveness  \\\n",
       "0         0.743       238373   0.339             0.000    1    0.0812   \n",
       "1         0.846       214800   0.557             0.000    8    0.2860   \n",
       "2         0.603       138913   0.723             0.000    9    0.0824   \n",
       "3         0.800       125381   0.579             0.912    5    0.0994   \n",
       "4         0.783       124016   0.792             0.878    7    0.0332   \n",
       "\n",
       "   loudness  mode  speechiness    tempo  time_signature  valence  popularity  \n",
       "0    -7.678     1       0.4090  203.927               4    0.118          15  \n",
       "1    -7.259     1       0.4570  159.009               4    0.371           0  \n",
       "2    -5.890     0       0.0454  114.966               4    0.382          56  \n",
       "3   -12.118     0       0.0701  123.003               4    0.641           0  \n",
       "4   -10.277     1       0.0661  120.047               4    0.928           0  "
      ]
     },
     "execution_count": 51,
     "metadata": {},
     "output_type": "execute_result"
    }
   ],
   "source": [
    "songs_k.head()"
   ]
  },
  {
   "cell_type": "code",
   "execution_count": 57,
   "id": "2e8d653a",
   "metadata": {},
   "outputs": [
    {
     "data": {
      "text/html": [
       "<div>\n",
       "<style scoped>\n",
       "    .dataframe tbody tr th:only-of-type {\n",
       "        vertical-align: middle;\n",
       "    }\n",
       "\n",
       "    .dataframe tbody tr th {\n",
       "        vertical-align: top;\n",
       "    }\n",
       "\n",
       "    .dataframe thead th {\n",
       "        text-align: right;\n",
       "    }\n",
       "</style>\n",
       "<table border=\"1\" class=\"dataframe\">\n",
       "  <thead>\n",
       "    <tr style=\"text-align: right;\">\n",
       "      <th></th>\n",
       "      <th>acousticness</th>\n",
       "      <th>danceability</th>\n",
       "      <th>duration_ms</th>\n",
       "      <th>energy</th>\n",
       "      <th>instrumentalness</th>\n",
       "      <th>key</th>\n",
       "      <th>liveness</th>\n",
       "      <th>loudness</th>\n",
       "      <th>mode</th>\n",
       "      <th>speechiness</th>\n",
       "      <th>tempo</th>\n",
       "      <th>time_signature</th>\n",
       "      <th>valence</th>\n",
       "      <th>popularity</th>\n",
       "    </tr>\n",
       "  </thead>\n",
       "  <tbody>\n",
       "    <tr>\n",
       "      <th>0</th>\n",
       "      <td>0.005820</td>\n",
       "      <td>0.743</td>\n",
       "      <td>238373</td>\n",
       "      <td>0.339</td>\n",
       "      <td>0.000</td>\n",
       "      <td>1</td>\n",
       "      <td>0.0812</td>\n",
       "      <td>-7.678</td>\n",
       "      <td>1</td>\n",
       "      <td>0.4090</td>\n",
       "      <td>203.927</td>\n",
       "      <td>4</td>\n",
       "      <td>0.118</td>\n",
       "      <td>15</td>\n",
       "    </tr>\n",
       "    <tr>\n",
       "      <th>1</th>\n",
       "      <td>0.024400</td>\n",
       "      <td>0.846</td>\n",
       "      <td>214800</td>\n",
       "      <td>0.557</td>\n",
       "      <td>0.000</td>\n",
       "      <td>8</td>\n",
       "      <td>0.2860</td>\n",
       "      <td>-7.259</td>\n",
       "      <td>1</td>\n",
       "      <td>0.4570</td>\n",
       "      <td>159.009</td>\n",
       "      <td>4</td>\n",
       "      <td>0.371</td>\n",
       "      <td>0</td>\n",
       "    </tr>\n",
       "    <tr>\n",
       "      <th>2</th>\n",
       "      <td>0.025000</td>\n",
       "      <td>0.603</td>\n",
       "      <td>138913</td>\n",
       "      <td>0.723</td>\n",
       "      <td>0.000</td>\n",
       "      <td>9</td>\n",
       "      <td>0.0824</td>\n",
       "      <td>-5.890</td>\n",
       "      <td>0</td>\n",
       "      <td>0.0454</td>\n",
       "      <td>114.966</td>\n",
       "      <td>4</td>\n",
       "      <td>0.382</td>\n",
       "      <td>56</td>\n",
       "    </tr>\n",
       "    <tr>\n",
       "      <th>3</th>\n",
       "      <td>0.029400</td>\n",
       "      <td>0.800</td>\n",
       "      <td>125381</td>\n",
       "      <td>0.579</td>\n",
       "      <td>0.912</td>\n",
       "      <td>5</td>\n",
       "      <td>0.0994</td>\n",
       "      <td>-12.118</td>\n",
       "      <td>0</td>\n",
       "      <td>0.0701</td>\n",
       "      <td>123.003</td>\n",
       "      <td>4</td>\n",
       "      <td>0.641</td>\n",
       "      <td>0</td>\n",
       "    </tr>\n",
       "    <tr>\n",
       "      <th>4</th>\n",
       "      <td>0.000035</td>\n",
       "      <td>0.783</td>\n",
       "      <td>124016</td>\n",
       "      <td>0.792</td>\n",
       "      <td>0.878</td>\n",
       "      <td>7</td>\n",
       "      <td>0.0332</td>\n",
       "      <td>-10.277</td>\n",
       "      <td>1</td>\n",
       "      <td>0.0661</td>\n",
       "      <td>120.047</td>\n",
       "      <td>4</td>\n",
       "      <td>0.928</td>\n",
       "      <td>0</td>\n",
       "    </tr>\n",
       "  </tbody>\n",
       "</table>\n",
       "</div>"
      ],
      "text/plain": [
       "   acousticness  danceability  duration_ms  energy  instrumentalness  key  \\\n",
       "0      0.005820         0.743       238373   0.339             0.000    1   \n",
       "1      0.024400         0.846       214800   0.557             0.000    8   \n",
       "2      0.025000         0.603       138913   0.723             0.000    9   \n",
       "3      0.029400         0.800       125381   0.579             0.912    5   \n",
       "4      0.000035         0.783       124016   0.792             0.878    7   \n",
       "\n",
       "   liveness  loudness  mode  speechiness    tempo  time_signature  valence  \\\n",
       "0    0.0812    -7.678     1       0.4090  203.927               4    0.118   \n",
       "1    0.2860    -7.259     1       0.4570  159.009               4    0.371   \n",
       "2    0.0824    -5.890     0       0.0454  114.966               4    0.382   \n",
       "3    0.0994   -12.118     0       0.0701  123.003               4    0.641   \n",
       "4    0.0332   -10.277     1       0.0661  120.047               4    0.928   \n",
       "\n",
       "   popularity  \n",
       "0          15  \n",
       "1           0  \n",
       "2          56  \n",
       "3           0  \n",
       "4           0  "
      ]
     },
     "execution_count": 57,
     "metadata": {},
     "output_type": "execute_result"
    }
   ],
   "source": [
    "cluster_song = songs_k.drop(['artist_name', 'track_name'],axis=1)\n",
    "cluster_song.head()"
   ]
  },
  {
   "cell_type": "code",
   "execution_count": 61,
   "id": "d0190e5d",
   "metadata": {},
   "outputs": [
    {
     "data": {
      "text/html": [
       "<div>\n",
       "<style scoped>\n",
       "    .dataframe tbody tr th:only-of-type {\n",
       "        vertical-align: middle;\n",
       "    }\n",
       "\n",
       "    .dataframe tbody tr th {\n",
       "        vertical-align: top;\n",
       "    }\n",
       "\n",
       "    .dataframe thead th {\n",
       "        text-align: right;\n",
       "    }\n",
       "</style>\n",
       "<table border=\"1\" class=\"dataframe\">\n",
       "  <thead>\n",
       "    <tr style=\"text-align: right;\">\n",
       "      <th></th>\n",
       "      <th>acousticness</th>\n",
       "      <th>danceability</th>\n",
       "      <th>duration_ms</th>\n",
       "      <th>energy</th>\n",
       "      <th>instrumentalness</th>\n",
       "      <th>key</th>\n",
       "      <th>liveness</th>\n",
       "      <th>loudness</th>\n",
       "      <th>mode</th>\n",
       "      <th>speechiness</th>\n",
       "      <th>tempo</th>\n",
       "      <th>time_signature</th>\n",
       "      <th>valence</th>\n",
       "      <th>popularity</th>\n",
       "    </tr>\n",
       "  </thead>\n",
       "  <tbody>\n",
       "    <tr>\n",
       "      <th>0</th>\n",
       "      <td>-0.974080</td>\n",
       "      <td>0.849826</td>\n",
       "      <td>0.209005</td>\n",
       "      <td>-0.884312</td>\n",
       "      <td>-0.621709</td>\n",
       "      <td>-1.174649</td>\n",
       "      <td>-0.677783</td>\n",
       "      <td>0.350838</td>\n",
       "      <td>0.803395</td>\n",
       "      <td>2.388752</td>\n",
       "      <td>2.800232</td>\n",
       "      <td>0.235251</td>\n",
       "      <td>-1.241440</td>\n",
       "      <td>-0.467150</td>\n",
       "    </tr>\n",
       "    <tr>\n",
       "      <th>1</th>\n",
       "      <td>-0.920325</td>\n",
       "      <td>1.391714</td>\n",
       "      <td>0.017595</td>\n",
       "      <td>-0.046852</td>\n",
       "      <td>-0.621709</td>\n",
       "      <td>0.768345</td>\n",
       "      <td>0.543208</td>\n",
       "      <td>0.414862</td>\n",
       "      <td>0.803395</td>\n",
       "      <td>2.774832</td>\n",
       "      <td>1.310884</td>\n",
       "      <td>0.235251</td>\n",
       "      <td>-0.264902</td>\n",
       "      <td>-1.228065</td>\n",
       "    </tr>\n",
       "    <tr>\n",
       "      <th>2</th>\n",
       "      <td>-0.918589</td>\n",
       "      <td>0.113279</td>\n",
       "      <td>-0.598598</td>\n",
       "      <td>0.590848</td>\n",
       "      <td>-0.621709</td>\n",
       "      <td>1.045915</td>\n",
       "      <td>-0.670628</td>\n",
       "      <td>0.624050</td>\n",
       "      <td>-1.244718</td>\n",
       "      <td>-0.535807</td>\n",
       "      <td>-0.149450</td>\n",
       "      <td>0.235251</td>\n",
       "      <td>-0.222443</td>\n",
       "      <td>1.612683</td>\n",
       "    </tr>\n",
       "    <tr>\n",
       "      <th>3</th>\n",
       "      <td>-0.905859</td>\n",
       "      <td>1.149706</td>\n",
       "      <td>-0.708476</td>\n",
       "      <td>0.037663</td>\n",
       "      <td>1.909328</td>\n",
       "      <td>-0.064367</td>\n",
       "      <td>-0.569277</td>\n",
       "      <td>-0.327610</td>\n",
       "      <td>-1.244718</td>\n",
       "      <td>-0.337136</td>\n",
       "      <td>0.117033</td>\n",
       "      <td>0.235251</td>\n",
       "      <td>0.777254</td>\n",
       "      <td>-1.228065</td>\n",
       "    </tr>\n",
       "    <tr>\n",
       "      <th>4</th>\n",
       "      <td>-0.990817</td>\n",
       "      <td>1.060268</td>\n",
       "      <td>-0.719560</td>\n",
       "      <td>0.855916</td>\n",
       "      <td>1.814969</td>\n",
       "      <td>0.490774</td>\n",
       "      <td>-0.963952</td>\n",
       "      <td>-0.046299</td>\n",
       "      <td>0.803395</td>\n",
       "      <td>-0.369310</td>\n",
       "      <td>0.019020</td>\n",
       "      <td>0.235251</td>\n",
       "      <td>1.885026</td>\n",
       "      <td>-1.228065</td>\n",
       "    </tr>\n",
       "  </tbody>\n",
       "</table>\n",
       "</div>"
      ],
      "text/plain": [
       "   acousticness  danceability  duration_ms    energy  instrumentalness  \\\n",
       "0     -0.974080      0.849826     0.209005 -0.884312         -0.621709   \n",
       "1     -0.920325      1.391714     0.017595 -0.046852         -0.621709   \n",
       "2     -0.918589      0.113279    -0.598598  0.590848         -0.621709   \n",
       "3     -0.905859      1.149706    -0.708476  0.037663          1.909328   \n",
       "4     -0.990817      1.060268    -0.719560  0.855916          1.814969   \n",
       "\n",
       "        key  liveness  loudness      mode  speechiness     tempo  \\\n",
       "0 -1.174649 -0.677783  0.350838  0.803395     2.388752  2.800232   \n",
       "1  0.768345  0.543208  0.414862  0.803395     2.774832  1.310884   \n",
       "2  1.045915 -0.670628  0.624050 -1.244718    -0.535807 -0.149450   \n",
       "3 -0.064367 -0.569277 -0.327610 -1.244718    -0.337136  0.117033   \n",
       "4  0.490774 -0.963952 -0.046299  0.803395    -0.369310  0.019020   \n",
       "\n",
       "   time_signature   valence  popularity  \n",
       "0        0.235251 -1.241440   -0.467150  \n",
       "1        0.235251 -0.264902   -1.228065  \n",
       "2        0.235251 -0.222443    1.612683  \n",
       "3        0.235251  0.777254   -1.228065  \n",
       "4        0.235251  1.885026   -1.228065  "
      ]
     },
     "execution_count": 61,
     "metadata": {},
     "output_type": "execute_result"
    }
   ],
   "source": [
    "X_prep = StandardScaler().fit_transform(cluster_song)\n",
    "pd.DataFrame(X_prep,columns=cluster_song.columns).head()"
   ]
  },
  {
   "cell_type": "code",
   "execution_count": 63,
   "id": "e4d01f5c",
   "metadata": {},
   "outputs": [
    {
     "data": {
      "text/html": [
       "<style>#sk-container-id-2 {color: black;background-color: white;}#sk-container-id-2 pre{padding: 0;}#sk-container-id-2 div.sk-toggleable {background-color: white;}#sk-container-id-2 label.sk-toggleable__label {cursor: pointer;display: block;width: 100%;margin-bottom: 0;padding: 0.3em;box-sizing: border-box;text-align: center;}#sk-container-id-2 label.sk-toggleable__label-arrow:before {content: \"▸\";float: left;margin-right: 0.25em;color: #696969;}#sk-container-id-2 label.sk-toggleable__label-arrow:hover:before {color: black;}#sk-container-id-2 div.sk-estimator:hover label.sk-toggleable__label-arrow:before {color: black;}#sk-container-id-2 div.sk-toggleable__content {max-height: 0;max-width: 0;overflow: hidden;text-align: left;background-color: #f0f8ff;}#sk-container-id-2 div.sk-toggleable__content pre {margin: 0.2em;color: black;border-radius: 0.25em;background-color: #f0f8ff;}#sk-container-id-2 input.sk-toggleable__control:checked~div.sk-toggleable__content {max-height: 200px;max-width: 100%;overflow: auto;}#sk-container-id-2 input.sk-toggleable__control:checked~label.sk-toggleable__label-arrow:before {content: \"▾\";}#sk-container-id-2 div.sk-estimator input.sk-toggleable__control:checked~label.sk-toggleable__label {background-color: #d4ebff;}#sk-container-id-2 div.sk-label input.sk-toggleable__control:checked~label.sk-toggleable__label {background-color: #d4ebff;}#sk-container-id-2 input.sk-hidden--visually {border: 0;clip: rect(1px 1px 1px 1px);clip: rect(1px, 1px, 1px, 1px);height: 1px;margin: -1px;overflow: hidden;padding: 0;position: absolute;width: 1px;}#sk-container-id-2 div.sk-estimator {font-family: monospace;background-color: #f0f8ff;border: 1px dotted black;border-radius: 0.25em;box-sizing: border-box;margin-bottom: 0.5em;}#sk-container-id-2 div.sk-estimator:hover {background-color: #d4ebff;}#sk-container-id-2 div.sk-parallel-item::after {content: \"\";width: 100%;border-bottom: 1px solid gray;flex-grow: 1;}#sk-container-id-2 div.sk-label:hover label.sk-toggleable__label {background-color: #d4ebff;}#sk-container-id-2 div.sk-serial::before {content: \"\";position: absolute;border-left: 1px solid gray;box-sizing: border-box;top: 0;bottom: 0;left: 50%;z-index: 0;}#sk-container-id-2 div.sk-serial {display: flex;flex-direction: column;align-items: center;background-color: white;padding-right: 0.2em;padding-left: 0.2em;position: relative;}#sk-container-id-2 div.sk-item {position: relative;z-index: 1;}#sk-container-id-2 div.sk-parallel {display: flex;align-items: stretch;justify-content: center;background-color: white;position: relative;}#sk-container-id-2 div.sk-item::before, #sk-container-id-2 div.sk-parallel-item::before {content: \"\";position: absolute;border-left: 1px solid gray;box-sizing: border-box;top: 0;bottom: 0;left: 50%;z-index: -1;}#sk-container-id-2 div.sk-parallel-item {display: flex;flex-direction: column;z-index: 1;position: relative;background-color: white;}#sk-container-id-2 div.sk-parallel-item:first-child::after {align-self: flex-end;width: 50%;}#sk-container-id-2 div.sk-parallel-item:last-child::after {align-self: flex-start;width: 50%;}#sk-container-id-2 div.sk-parallel-item:only-child::after {width: 0;}#sk-container-id-2 div.sk-dashed-wrapped {border: 1px dashed gray;margin: 0 0.4em 0.5em 0.4em;box-sizing: border-box;padding-bottom: 0.4em;background-color: white;}#sk-container-id-2 div.sk-label label {font-family: monospace;font-weight: bold;display: inline-block;line-height: 1.2em;}#sk-container-id-2 div.sk-label-container {text-align: center;}#sk-container-id-2 div.sk-container {/* jupyter's `normalize.less` sets `[hidden] { display: none; }` but bootstrap.min.css set `[hidden] { display: none !important; }` so we also need the `!important` here to be able to override the default hidden behavior on the sphinx rendered scikit-learn.org. See: https://github.com/scikit-learn/scikit-learn/issues/21755 */display: inline-block !important;position: relative;}#sk-container-id-2 div.sk-text-repr-fallback {display: none;}</style><div id=\"sk-container-id-2\" class=\"sk-top-container\"><div class=\"sk-text-repr-fallback\"><pre>KMeans(n_clusters=10)</pre><b>In a Jupyter environment, please rerun this cell to show the HTML representation or trust the notebook. <br />On GitHub, the HTML representation is unable to render, please try loading this page with nbviewer.org.</b></div><div class=\"sk-container\" hidden><div class=\"sk-item\"><div class=\"sk-estimator sk-toggleable\"><input class=\"sk-toggleable__control sk-hidden--visually\" id=\"sk-estimator-id-2\" type=\"checkbox\" checked><label for=\"sk-estimator-id-2\" class=\"sk-toggleable__label sk-toggleable__label-arrow\">KMeans</label><div class=\"sk-toggleable__content\"><pre>KMeans(n_clusters=10)</pre></div></div></div></div></div>"
      ],
      "text/plain": [
       "KMeans(n_clusters=10)"
      ]
     },
     "execution_count": 63,
     "metadata": {},
     "output_type": "execute_result"
    }
   ],
   "source": [
    "kmeans = KMeans(n_clusters=10)\n",
    "kmeans.fit(X_prep)"
   ]
  },
  {
   "cell_type": "code",
   "execution_count": 64,
   "id": "7bcabd53",
   "metadata": {},
   "outputs": [
    {
     "data": {
      "text/plain": [
       "0    39910\n",
       "1    30818\n",
       "2    35578\n",
       "3    29380\n",
       "4    29382\n",
       "5      220\n",
       "6    23518\n",
       "7     4088\n",
       "8    14856\n",
       "9    53576\n",
       "dtype: int64"
      ]
     },
     "execution_count": 64,
     "metadata": {},
     "output_type": "execute_result"
    }
   ],
   "source": [
    "# Predicting / assigning the clusters:\n",
    "clusters = kmeans.predict(X_prep)\n",
    "\n",
    "# Check the size of the clusters\n",
    "pd.Series(clusters).value_counts().sort_index() # prediction"
   ]
  },
  {
   "cell_type": "code",
   "execution_count": 65,
   "id": "9ecf2ae7",
   "metadata": {},
   "outputs": [
    {
     "data": {
      "image/png": "[encoded data removed]",
      "text/plain": [
       "<Figure size 360x360 with 1 Axes>"
      ]
     },
     "metadata": {
      "needs_background": "light"
     },
     "output_type": "display_data"
    }
   ],
   "source": [
    "plt.figure(figsize=(5, 5))\n",
    "plt.scatter(X_prep[:, 0], X_prep[:, 2], c=clusters,alpha=0.5)\n",
    "plt.show()"
   ]
  },
  {
   "cell_type": "code",
   "execution_count": null,
   "id": "f24396c3",
   "metadata": {},
   "outputs": [],
   "source": [
    "kmeans.inertia_ "
   ]
  },
  {
   "cell_type": "code",
   "execution_count": null,
   "id": "b4421447",
   "metadata": {},
   "outputs": [],
   "source": [
    "%%time\n",
    "kmeans = KMeans(n_clusters=4,\n",
    "                init=\"random\",\n",
    "                n_init=100,  # try with 1, 4, 8, 20, 30, 100...\n",
    "                max_iter=10,\n",
    "                tol=0,\n",
    "                random_state=1234)\n",
    "kmeans.fit(X_prep)\n",
    "print(kmeans.inertia_)"
   ]
  },
  {
   "cell_type": "code",
   "execution_count": 68,
   "id": "d2b002b4",
   "metadata": {},
   "outputs": [
    {
     "name": "stdout",
     "output_type": "stream",
     "text": [
      "CPU times: total: 11min 14s\n",
      "Wall time: 1min 48s\n"
     ]
    },
    {
     "data": {
      "text/plain": [
       "Text(0.5, 1.0, 'Elbow Method showing the optimal k')"
      ]
     },
     "execution_count": 68,
     "metadata": {},
     "output_type": "execute_result"
    },
    {
     "data": {
      "image/png": "[encoded data removed]",
      "text/plain": [
       "<Figure size 1152x576 with 1 Axes>"
      ]
     },
     "metadata": {
      "needs_background": "light"
     },
     "output_type": "display_data"
    }
   ],
   "source": [
    "%%time\n",
    "K = range(2, 20)\n",
    "inertia = []\n",
    "\n",
    "for k in K:\n",
    "    kmeans = KMeans(n_clusters=k)\n",
    "    kmeans.fit(X_prep)\n",
    "    inertia.append(kmeans.inertia_)\n",
    "\n",
    "import matplotlib.pyplot as plt\n",
    "%matplotlib inline\n",
    "\n",
    "plt.figure(figsize=(16,8))\n",
    "plt.plot(K, inertia, 'bx-')\n",
    "plt.xlabel('k')\n",
    "plt.ylabel('inertia')\n",
    "plt.xticks(np.arange(min(K), max(K)+1, 1.0))\n",
    "plt.title('Elbow Method showing the optimal k')"
   ]
  },
  {
   "cell_type": "code",
   "execution_count": 72,
   "id": "78bf5787",
   "metadata": {},
   "outputs": [],
   "source": [
    "# %%time\n",
    "# K = range(2, 20)\n",
    "# silhouette = []\n",
    "\n",
    "# for k in K:\n",
    "#     kmeans = KMeans(n_clusters=k)\n",
    "#     kmeans.fit(X_prep)\n",
    "#     silhouette.append(silhouette_score(X_prep, kmeans.predict(X_prep)))\n",
    "\n",
    "\n",
    "# plt.figure(figsize=(16,8))\n",
    "# plt.plot(K, silhouette, 'bx-')\n",
    "# plt.xlabel('k')\n",
    "# plt.ylabel('silhouette score')\n",
    "# plt.xticks(np.arange(min(K), max(K)+1, 1.0))\n",
    "# plt.title('Slhouette score showing the optimal k')"
   ]
  },
  {
   "cell_type": "code",
   "execution_count": null,
   "id": "39e9dd33",
   "metadata": {},
   "outputs": [],
   "source": []
  }
 ],
 "metadata": {
  "kernelspec": {
   "display_name": "Python 3 (ipykernel)",
   "language": "python",
   "name": "python3"
  },
  "language_info": {
   "codemirror_mode": {
    "name": "ipython",
    "version": 3
   },
   "file_extension": ".py",
   "mimetype": "text/x-python",
   "name": "python",
   "nbconvert_exporter": "python",
   "pygments_lexer": "ipython3",
   "version": "3.9.12"
  }
 },
 "nbformat": 4,
 "nbformat_minor": 5
}
